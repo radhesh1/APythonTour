{
 "cells": [
  {
   "cell_type": "markdown",
   "metadata": {},
   "source": [
    "<!--NAVIGATION-->\n",
    "| [Contents](Index.ipynb) | [How to Run Python Code](01-How-to-Run-Python-Code.ipynb) >"
   ]
  },
  {
   "cell_type": "markdown",
   "metadata": {},
   "source": [
    "Python, conceived in the late 1980s for teaching and scripting, has evolved into a go-to tool for programmers, engineers, researchers, and data scientists in academia and industry. As an astronomer, I rely heavily on Python for data-intensive tasks—whether it's extracting insights from massive astronomical datasets, scraping and cleaning web data, or automating research workflows.\n",
    "\n",
    "Python's appeal lies in its simplicity and elegance, plus the convenience of its extensive ecosystem of domain-specific tools. Here are some essential packages for scientific computing and data science:\n",
    "\n",
    "- [NumPy](http://numpy.org): Efficient storage and computation for multi-dimensional arrays.\n",
    "- [SciPy](http://scipy.org): A suite of numerical tools like integration and interpolation.\n",
    "- [Pandas](http://pandas.pydata.org): DataFrame objects with powerful methods for data manipulation.\n",
    "- [Matplotlib](http://matplotlib.org): Tools for creating publication-quality plots.\n",
    "- [Scikit-Learn](http://scikit-learn.org): A uniform toolkit for applying machine learning algorithms.\n",
    "- [IPython/Jupyter](http://jupyter.org): Enhanced terminal and interactive notebook environment for exploratory analysis and creating executable documents (like this report).\n",
    "\n",
    "There are many other tools and packages out there; if you need to perform a scientific or data analysis task, someone has likely written a package for it.\n",
    "\n",
    "To leverage this data science ecosystem, you need to be comfortable with Python itself. Many of my students and colleagues have backgrounds in other programming languages like MATLAB, IDL, R, Java, or C++, and they want a quick but thorough tour of Python that builds on their existing knowledge, rather than starting from scratch. This report aims to meet that need.\n",
    "\n",
    "This isn't a comprehensive intro to programming or Python; for that, check out the recommended resources in [Resources for Learning](16-Further-Resources.ipynb). Instead, we'll take a fast-paced look at Python's essential syntax and semantics, built-in data types and structures, function definitions, control flow statements, and more. By the end, you'll have a solid foundation to dive into the data science stack we just outlined."
   ]
  },
  {
   "cell_type": "markdown",
   "metadata": {},
   "source": [
    "## Installation and Practical Considerations\n",
    "\n",
    "Installing Python and the suite of libraries that enable scientific computing is straightforward whether you use Windows, Linux, or Mac OS X. This section will outline some of the considerations when setting up your computer."
   ]
  },
  {
   "cell_type": "markdown",
   "metadata": {},
   "source": [
    "### Python 2 vs Python 3\n",
    "\n",
    "This report uses the syntax of Python 3, which contains language enhancements that are not compatible with the *2.x* series of Python.\n",
    "Though Python 3.0 was first released in 2008, adoption has been relatively slow, particularly in the scientific and web development communities.\n",
    "This is primarily because it took some time for many of the essential packages and toolkits to be made compatible with the new language internals.\n",
    "Since early 2014, however, stable releases of the most important tools in the data science ecosystem have been fully-compatible with both Python 2 and 3, and so this book will use the newer Python 3 syntax.\n",
    "Even though that is the case, the vast majority of code snippets in this book will also work without modification in Python 2: in cases where a Py2-incompatible syntax is used, I will make every effort to note it explicitly."
   ]
  },
  {
   "cell_type": "markdown",
   "metadata": {},
   "source": [
    "### Installation with conda\n",
    "\n",
    "Though there are various ways to install Python, the one I would suggest – particularly if you wish to eventually use the data science tools mentioned above – is via the cross-platform Anaconda distribution.\n",
    "There are two flavors of the Anaconda distribution:\n",
    "\n",
    "- [Miniconda](http://conda.pydata.org/miniconda.html) gives you Python interpreter itself, along with a command-line tool called ``conda`` which operates as a cross-platform package manager geared toward Python packages, similar in spirit to the ``apt`` or ``yum`` tools that Linux users might be familiar with.\n",
    "- [Anaconda](https://www.continuum.io/downloads) includes both Python and ``conda``, and additionally bundles a suite of other pre-installed packages geared toward scientific computing.\n",
    "\n",
    "Any of the packages included with Anaconda can also be installed manually on top of Miniconda; for this reason I suggest starting with Miniconda.\n",
    "\n",
    "To get started, download and install the Miniconda package – make sure to choose a version with Python 3 – and then install the IPython notebook package:\n",
    "```bash\n",
    "[~]$ conda install ipython-notebook\n",
    "```\n",
    "For more information on ``conda``, including information about creating and using conda environments, refer to the Miniconda package documentation linked at the above page."
   ]
  },
  {
   "cell_type": "markdown",
   "metadata": {},
   "source": [
    "## The Zen of Python\n",
    "\n",
    "Python aficionados are often quick to point out how \"intuitive\", \"beautiful\", or \"fun\" Python is.\n",
    "While I tend to agree, I also recognize that beauty, intuition, and fun often go hand in hand with familiarity, and so for those familiar with other languages such florid sentiments can come across as a bit smug.\n",
    "Nevertheless, I hope that if you give Python a chance, you'll see where such impressions might come from.\n",
    "And if you *really* want to dig into the programming philosophy that drives much of the coding practice of Python power-users, a nice little Easter egg exists in the Python interpreter: simply close your eyes, meditate for a few minutes, and ``import this``:"
   ]
  },
  {
   "cell_type": "code",
   "execution_count": null,
   "metadata": {
    "vscode": {
     "languageId": "plaintext"
    }
   },
   "outputs": [],
   "source": []
  }
 ],
 "metadata": {
  "language_info": {
   "name": "python"
  }
 },
 "nbformat": 4,
 "nbformat_minor": 2
}
