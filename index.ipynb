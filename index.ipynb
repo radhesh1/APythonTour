{
 "cells": [
  {
   "cell_type": "markdown",
   "metadata": {},
   "source": [
    "The material is particularly aimed at those who wish to use Python for data\n",
    "science and/or scientific programming, and in this capacity serves as an\n",
    "introduction."
   ]
  },
  {
   "cell_type": "markdown",
   "metadata": {},
   "source": [
    "## Index\n",
    "\n",
    "1. [Introduction](topics/00-Introduction.ipynb)\n",
    "2. [How to Run Python Code](topics/01-How-to-Run-Python-Code.ipynb)\n",
    "3. [Basic Python Syntax](topics/02-Basic-Python-Syntax.ipynb)\n",
    "4. [Python Semantics: Variables](topics/03-Semantics-Variables.ipynb)\n",
    "5. [Python Semantics: Operators](topics/04-Semantics-Operators.ipynb)\n",
    "6. [Built-In Scalar Types](topics/05-Built-in-Scalar-Types.ipynb)\n",
    "7. [Built-In Data Structures](topics/06-Built-in-Data-Structures.ipynb)\n",
    "8. [Control Flow Statements](topics/07-Control-Flow-Statements.ipynb)\n",
    "9. [Defining Functions](topics/08-Defining-Functions.ipynb)\n",
    "10. [Errors and Exceptions](topics/09-Errors-and-Exceptions.ipynb)\n",
    "11. [Iterators](topics/10-Iterators.ipynb)\n",
    "12. [List Comprehensions](topics/11-List-Comprehensions.ipynb)\n",
    "13. [Generators and Generator Expressions](topics/12-Generators.ipynb)\n",
    "14. [Modules and Packages](topics/13-Modules-and-Packages.ipynb)\n",
    "15. [Strings and Regular Expressions](topics/14-Strings-and-Regular-Expressions.ipynb)\n",
    "16. [Preview of Data Science Tools](topics/15-Preview-of-Data-Science-Tools.ipynb)\n",
    "17. [Resources for Further Learning](topics/16-Further-Resources.ipynb)\n",
    "18. [Appendix: Code To Reproduce Figures](topics/17-Figures.ipynb)"
   ]
  },
  {
   "cell_type": "markdown",
   "metadata": {},
   "source": [
    "\n",
    "\n",
    "## License\n",
    "\n",
    "This material is released under the \"No Rights Reserved\" [CC0](LICENSE)\n",
    "license, and thus you are free to re-use, modify, build-on, and enhance\n",
    "this material for any purpose.\n",
    "\n",
    "Read more about CC0 [here](https://creativecommons.org/share-your-work/public-domain/cc0/).\n"
   ]
  }
 ],
 "metadata": {
  "language_info": {
   "name": "python"
  }
 },
 "nbformat": 4,
 "nbformat_minor": 2
}
